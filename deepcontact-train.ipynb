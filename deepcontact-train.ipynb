{
 "cells": [
  {
   "cell_type": "code",
   "execution_count": 1,
   "metadata": {},
   "outputs": [
    {
     "name": "stdout",
     "output_type": "stream",
     "text": [
      "a00610.science.domain\r\n"
     ]
    }
   ],
   "source": [
    "! hostname\n",
    "%matplotlib inline\n",
    "%reload_ext autoreload\n",
    "%autoreload 2\n",
    "\n",
    "import numpy as np"
   ]
  },
  {
   "cell_type": "code",
   "execution_count": 3,
   "metadata": {},
   "outputs": [],
   "source": [
    "# import the python scripts in this folder\n",
    "import sys\n",
    "sys.path.append(\"./erda/deep_contact\")\n",
    "from unet_model import UNet\n",
    "from hdf5_dataset import SimulationHdf5Dataset"
   ]
  },
  {
   "cell_type": "code",
   "execution_count": 12,
   "metadata": {},
   "outputs": [],
   "source": [
    "from pathlib import Path\n",
    "# we pull the dataset onto local storage if it's not there:\n",
    "SIMDATA='erda/data/2dsim/xml1515100_res0.125_h0.5.hdf5'\n",
    "SIMDATA_tmp='/tmp/xml1515100_res0.125_h0.5.hdf5'\n",
    "\n",
    "if not Path(SIMDATA_tmp).exists():\n",
    "    !cp  SIMDATA SIMDATA_tmp"
   ]
  },
  {
   "cell_type": "code",
   "execution_count": 13,
   "metadata": {},
   "outputs": [],
   "source": [
    "# define some constants\n",
    "PATH = Path('erda/data/2dsim')\n",
    "# batch size\n",
    "bs=64"
   ]
  },
  {
   "cell_type": "code",
   "execution_count": 14,
   "metadata": {},
   "outputs": [
    {
     "data": {
      "text/plain": [
       "{'X_mean': array([ 0.00536,  0.00067, -0.00024, -0.01445, -0.00012,  0.00027], dtype=float32),\n",
       " 'X_std': array([0.01276, 0.00159, 0.01406, 0.06313, 0.01683, 0.03144], dtype=float32),\n",
       " 'Y_mean': array([0.00007, 0.00071, 0.0042 , 0.00001], dtype=float32),\n",
       " 'Y_std': array([0.01149, 0.01338, 0.02493, 0.00592], dtype=float32)}"
      ]
     },
     "execution_count": 14,
     "metadata": {},
     "output_type": "execute_result"
    }
   ],
   "source": [
    "import pickle\n",
    "# compute dataset statistics and save them\n",
    "ds = SimulationHdf5Dataset(SIMDATA)\n",
    "SIMDATA_stats = SIMDATA + '_stats.pkl'\n",
    "if not Path(SIMDATA_stats).exists():\n",
    "    # pull the dataset in memory\n",
    "    X,Y = ds[:,:,:,:]\n",
    "    stats= {}\n",
    "    stats['X_mean'] = np.mean(X,axis=(0,2,3))\n",
    "    stats['X_std'] = np.std(X,axis=(0,2,3))\n",
    "    stats['Y_mean'] = np.mean(Y,axis=(0,2,3))\n",
    "    stats['Y_std'] = np.std(Y,axis=(0,2,3))\n",
    "    with open(SIMDATA_stats, 'wb') as f:\n",
    "        pickle.dump(stats, f, pickle.HIGHEST_PROTOCOL)\n",
    "    # clear the loaded dataset. We will use the dataloaders to access it.\n",
    "    del X,Y\n",
    "else :\n",
    "    with open(SIMDATA_stats, 'rb') as f:\n",
    "        stats = pickle.load(f)\n",
    "stats"
   ]
  },
  {
   "cell_type": "code",
   "execution_count": 15,
   "metadata": {},
   "outputs": [
    {
     "data": {
      "text/plain": [
       "(13822, [(10174,), (2543,), (1105,)])"
      ]
     },
     "execution_count": 15,
     "metadata": {},
     "output_type": "execute_result"
    }
   ],
   "source": [
    "from fastai.dataset import *\n",
    "\n",
    "# train-validation-test split\n",
    "SIMDATA_split = SIMDATA + '_splits.pkl'\n",
    "if not Path(SIMDATA_split).exists():\n",
    "    val_idxs = get_cv_idxs(len(ds),val_pct=0.08) # 10% of the data for the test set\n",
    "    test_idxs,tr_idxs = split_by_idx(val_idxs,np.arange(len(ds)))[0]\n",
    "    # 20% of the remaining for validation, rest for train\n",
    "    val_idxs = get_cv_idxs(len(tr_idxs),val_pct=0.2) \n",
    "    val_idxs, tr_idxs = split_by_idx(val_idxs,tr_idxs)[0]\n",
    "\n",
    "    split={}\n",
    "    split['train_idxs'],split['val_idxs'],split['test_idxs']=tr_idxs,val_idxs,test_idxs\n",
    "    del tr_idxs, val_idxs, test_idxs\n",
    "    with open(SIMDATA_split, 'wb') as f:\n",
    "        pickle.dump(split, f, pickle.HIGHEST_PROTOCOL)\n",
    "else :\n",
    "    with open(SIMDATA_split, 'rb') as f:\n",
    "        split = pickle.load(f)\n",
    "len(ds),[s.shape for s in split.values()]"
   ]
  },
  {
   "cell_type": "code",
   "execution_count": 17,
   "metadata": {},
   "outputs": [],
   "source": [
    "\n",
    "# reverse the index of the dataset\n",
    "body_channels = {k: v for k, v in zip(ds.body_channels,range(len(ds.body_channels)))}\n",
    "contact_channels = {k: v for k, v in zip(ds.contact_channels,range(len(ds.contact_channels)))}\n"
   ]
  },
  {
   "cell_type": "markdown",
   "metadata": {},
   "source": [
    "### select the channels that we use from training\n",
    "create selector functions for the 2 cases that we use\n",
    "\n",
    "the format is N_examples x N_channels x H x W.\n",
    "\n",
    "Depending on the case we want to train for, run either of the cells"
   ]
  },
  {
   "cell_type": "code",
   "execution_count": 18,
   "metadata": {},
   "outputs": [],
   "source": [
    "# what do we use as input to the NN?\n",
    "b_idxs = [body_channels['mass'],\n",
    "          body_channels['inertia'],\n",
    "          body_channels['vx'],\n",
    "          body_channels['vy'],\n",
    "          body_channels['omega']]\n",
    "# what are we trying to predict?\n",
    "c_idxs = [contact_channels['ni'],\n",
    "          contact_channels['ti']]\n",
    "\n",
    "def get_data(ds,i):\n",
    "    X=ds[i][0][b_idxs]\n",
    "    Y=ds[i][1][c_idxs]\n",
    "#     import pdb;pdb.set_trace()\n",
    "    return X, Y\n",
    "\n",
    "X_mean = stats['X_mean'][b_idxs]\n",
    "X_std = stats['X_std'][b_idxs]\n",
    "Y_mean = stats['Y_mean'][c_idxs]\n",
    "Y_std = stats['Y_std'][c_idxs]\n",
    "\n",
    "# get_data(ds,69)"
   ]
  },
  {
   "cell_type": "code",
   "execution_count": 8,
   "metadata": {},
   "outputs": [],
   "source": [
    "# with temporal information\n",
    "# TODO: add flags array at beginning of each simulation\n",
    "# so that we know to add black image to the input tensor\n",
    "\n",
    "# what do we use as input to the NN?\n",
    "b_idxs = [body_channels['mass'],\n",
    "          body_channels['inertia'],\n",
    "          body_channels['vx'],\n",
    "          body_channels['vy'],\n",
    "          body_channels['omega']],\n",
    "c_idxs = [contact_channels['ni'],\n",
    "          contact_channels['ti']]\n",
    "\n",
    "def get_data(ds,i):\n",
    "\n",
    "    Y_prev = ds[i-1][1][c_idxs]\n",
    "    X=ds[i][0][b_idxs]\n",
    "    \n",
    "    X=np.concatenate([X,Y_prev])\n",
    "    Y=ds[i][1][c_idxs]\n",
    "    return X,Y\n",
    "\n",
    "X_mean = np.concatenate([stats['X_mean'][b_idxs],stats['Y_mean'][c_idxs]])\n",
    "X_std = np.concatenate([stats['X_std'][b_idxs],stats['Y_std'][c_idxs]])\n",
    "Y_mean = stats['Y_mean'][c_idxs]\n",
    "Y_std = stats['Y_std'][c_idxs]"
   ]
  },
  {
   "cell_type": "code",
   "execution_count": 19,
   "metadata": {},
   "outputs": [],
   "source": [
    "from torchvision.transforms import *\n",
    "\n",
    "class Tensorize(object):\n",
    "    def __call__(self, pic):\n",
    "        return torch.from_numpy(pic).float()\n",
    "\n",
    "    def __repr__(self):\n",
    "        return self.__class__.__name__ + '()'\n",
    "\n",
    "class PadToSize(object):\n",
    "    def __call__(self,pic):\n",
    "        return np.pad(pic,((0,0),(3,4),(3,4)),'constant')\n",
    "    \n",
    "    def __repr__(self):\n",
    "        return self.__class__.__name__ + '()'\n",
    "\n",
    "class Norm(object):\n",
    "    def __init__(self,mean,std):\n",
    "        self.mean=mean\n",
    "        self.std=std\n",
    "        \n",
    "    def __call__(self,pic):\n",
    "        pic = (np.moveaxis(pic, 0, -1) - self.mean)/self.std\n",
    "        return np.moveaxis(pic, -1, 0)\n",
    "    \n",
    "    def __repr__(self):\n",
    "        return self.__class__.__name__ + '()'\n",
    "\n",
    "\n",
    "class DeepContactDataset(Dataset):\n",
    "    def __init__(self):\n",
    "        self.tensorize=Tensorize()\n",
    "        self.pad = PadToSize()\n",
    "        self.norm_x = Norm(mean=X_mean, std=X_std)\n",
    "        self.norm_y= Norm(mean=Y_mean, std=Y_std)\n",
    "    \n",
    "    def __getitem__(self, index):\n",
    "        X,Y=get_data(ds, index);\n",
    "        X=self.pad(X)\n",
    "        X=self.norm_x(X)\n",
    "        X=self.tensorize(X)\n",
    "        \n",
    "        Y=self.pad(Y)\n",
    "        Y=self.norm_y(Y)\n",
    "        Y=self.tensorize(Y)\n",
    "        \n",
    "        return X,Y\n",
    "\n",
    "    def __len__(self):\n",
    "        return len(ds)"
   ]
  },
  {
   "cell_type": "code",
   "execution_count": 20,
   "metadata": {},
   "outputs": [],
   "source": [
    "from torch.utils.data.dataset import Subset\n",
    "dcds = DeepContactDataset()\n",
    "\n",
    "train_loader = torch.utils.data.DataLoader(dataset=Subset(dcds,split['train_idxs']),\n",
    "                          batch_size=bs,\n",
    "                          shuffle=True,\n",
    "                          num_workers=8)\n",
    "val_loader = torch.utils.data.DataLoader(dataset=Subset(dcds,split['val_idxs']),\n",
    "                          batch_size=bs,\n",
    "                          shuffle=False,\n",
    "                          num_workers=8)\n",
    "test_loader = torch.utils.data.DataLoader(dataset=Subset(dcds,split['test_idxs']),\n",
    "                          batch_size=bs,\n",
    "                          shuffle=False,\n",
    "                          num_workers=8)"
   ]
  },
  {
   "cell_type": "code",
   "execution_count": 11,
   "metadata": {},
   "outputs": [],
   "source": [
    "from fastai.conv_learner import *\n",
    "\n",
    "md = ModelData(path=PATH,trn_dl=train_loader, val_dl=val_loader, test_dl=test_loader)\n",
    "net = UNet(5,2)\n",
    "learn = Learner.from_model_data(m=net, data=md)\n",
    "learn.crit = F.mse_loss"
   ]
  },
  {
   "cell_type": "code",
   "execution_count": 13,
   "metadata": {
    "deletable": false,
    "editable": false
   },
   "outputs": [
    {
     "data": {
      "application/vnd.jupyter.widget-view+json": {
       "model_id": "9149e658ad314979ad22fd0c32cc2b5f",
       "version_major": 2,
       "version_minor": 0
      },
      "text/plain": [
       "HBox(children=(IntProgress(value=0, description='Epoch', max=1, style=ProgressStyle(description_width='initial…"
      ]
     },
     "metadata": {},
     "output_type": "display_data"
    },
    {
     "name": "stdout",
     "output_type": "stream",
     "text": [
      " 96%|█████████▌| 153/159 [14:19<00:33,  5.55s/it, loss=12.2] "
     ]
    }
   ],
   "source": [
    "learn.lr_find()"
   ]
  },
  {
   "cell_type": "code",
   "execution_count": 14,
   "metadata": {
    "deletable": false,
    "editable": false,
    "scrolled": true
   },
   "outputs": [
    {
     "data": {
      "image/png": "[encoded data removed]",
      "text/plain": [
       "<Figure size 432x288 with 1 Axes>"
      ]
     },
     "metadata": {
      "needs_background": "light"
     },
     "output_type": "display_data"
    }
   ],
   "source": [
    "learn.sched.plot()"
   ]
  },
  {
   "cell_type": "code",
   "execution_count": 14,
   "metadata": {
    "scrolled": true
   },
   "outputs": [
    {
     "data": {
      "application/vnd.jupyter.widget-view+json": {
       "model_id": "3a8dc9428b984aab91fc5dafa4d14667",
       "version_major": 2,
       "version_minor": 0
      },
      "text/plain": [
       "HBox(children=(IntProgress(value=0, description='Epoch', max=5, style=ProgressStyle(description_width='initial…"
      ]
     },
     "metadata": {},
     "output_type": "display_data"
    },
    {
     "name": "stdout",
     "output_type": "stream",
     "text": [
      "epoch      trn_loss   val_loss                               \n",
      "    0      0.874306   0.879377  \n",
      "    1      0.572602   0.464126                               \n",
      "    2      0.437376   0.366504                               \n",
      "    3      0.36672    0.331453                               \n",
      "    4      0.333893   0.307717                               \n"
     ]
    },
    {
     "data": {
      "text/plain": [
       "[array([0.30772])]"
      ]
     },
     "execution_count": 14,
     "metadata": {},
     "output_type": "execute_result"
    }
   ],
   "source": [
    "lr=0.5\n",
    "learn.fit(lr, 5, cycle_len=1)"
   ]
  },
  {
   "cell_type": "code",
   "execution_count": 15,
   "metadata": {},
   "outputs": [],
   "source": [
    "learn.save(\"3mar_5epochs_03loss\")"
   ]
  },
  {
   "cell_type": "code",
   "execution_count": 16,
   "metadata": {},
   "outputs": [
    {
     "data": {
      "image/png": "[encoded data removed]",
      "text/plain": [
       "<Figure size 432x288 with 1 Axes>"
      ]
     },
     "metadata": {
      "needs_background": "light"
     },
     "output_type": "display_data"
    }
   ],
   "source": [
    "learn.sched.plot_loss()"
   ]
  },
  {
   "cell_type": "code",
   "execution_count": 17,
   "metadata": {},
   "outputs": [
    {
     "data": {
      "image/png": "[encoded data removed]",
      "text/plain": [
       "<Figure size 432x288 with 1 Axes>"
      ]
     },
     "metadata": {
      "needs_background": "light"
     },
     "output_type": "display_data"
    }
   ],
   "source": [
    "learn.sched.plot_lr()"
   ]
  },
  {
   "cell_type": "code",
   "execution_count": 18,
   "metadata": {},
   "outputs": [
    {
     "data": {
      "application/vnd.jupyter.widget-view+json": {
       "model_id": "0c65359f160f4dac86b031056fa63f50",
       "version_major": 2,
       "version_minor": 0
      },
      "text/plain": [
       "HBox(children=(IntProgress(value=0, description='Epoch', max=5, style=ProgressStyle(description_width='initial…"
      ]
     },
     "metadata": {},
     "output_type": "display_data"
    },
    {
     "name": "stdout",
     "output_type": "stream",
     "text": [
      "epoch      trn_loss   val_loss                               \n",
      "    0      0.350139   0.413165  \n",
      "    1      0.330089   0.337079                               \n",
      "    2      0.321606   0.305029                               \n",
      "    3      0.300088   0.288273                               \n",
      "    4      0.28923    0.287392                               \n"
     ]
    },
    {
     "data": {
      "text/plain": [
       "[array([0.28739])]"
      ]
     },
     "execution_count": 18,
     "metadata": {},
     "output_type": "execute_result"
    }
   ],
   "source": [
    "learn.fit(lr, 1, cycle_len=5)"
   ]
  },
  {
   "cell_type": "code",
   "execution_count": 20,
   "metadata": {},
   "outputs": [],
   "source": [
    "learn.save(\"3mar_10epochs_028loss\")"
   ]
  },
  {
   "cell_type": "code",
   "execution_count": 21,
   "metadata": {},
   "outputs": [
    {
     "data": {
      "image/png": "[encoded data removed]",
      "text/plain": [
       "<Figure size 432x288 with 1 Axes>"
      ]
     },
     "metadata": {
      "needs_background": "light"
     },
     "output_type": "display_data"
    }
   ],
   "source": [
    "learn.sched.plot_loss()"
   ]
  },
  {
   "cell_type": "code",
   "execution_count": 22,
   "metadata": {},
   "outputs": [
    {
     "data": {
      "image/png": "[encoded data removed]",
      "text/plain": [
       "<Figure size 432x288 with 1 Axes>"
      ]
     },
     "metadata": {
      "needs_background": "light"
     },
     "output_type": "display_data"
    }
   ],
   "source": [
    "learn.sched.plot_lr()"
   ]
  },
  {
   "cell_type": "code",
   "execution_count": 24,
   "metadata": {},
   "outputs": [
    {
     "data": {
      "application/vnd.jupyter.widget-view+json": {
       "model_id": "12d77bc7386143ccaefedb28b11c33e7",
       "version_major": 2,
       "version_minor": 0
      },
      "text/plain": [
       "HBox(children=(IntProgress(value=0, description='Epoch', max=10, style=ProgressStyle(description_width='initia…"
      ]
     },
     "metadata": {},
     "output_type": "display_data"
    },
    {
     "name": "stdout",
     "output_type": "stream",
     "text": [
      "epoch      trn_loss   val_loss                               \n",
      "    0      0.332512   0.32575   \n",
      "    1      0.240822   0.292459                               \n",
      "    2      0.058036   0.073461                                \n",
      "    3      0.032982   0.009592                                \n",
      "    4      0.043803   0.01685                                 \n",
      "    5      0.027056   0.007061                                \n",
      "    6      0.027688   0.005607                                \n",
      "    7      0.023932   0.005541                                \n",
      "    8      0.016601   0.004775                                \n",
      "    9      0.015347   0.005798                                \n"
     ]
    },
    {
     "data": {
      "text/plain": [
       "[array([0.0058])]"
      ]
     },
     "execution_count": 24,
     "metadata": {},
     "output_type": "execute_result"
    }
   ],
   "source": [
    "learn.fit(lr, 1, cycle_len=10)"
   ]
  },
  {
   "cell_type": "code",
   "execution_count": 25,
   "metadata": {},
   "outputs": [],
   "source": [
    "learn.save(\"3mar_20epochs_final\")"
   ]
  },
  {
   "cell_type": "code",
   "execution_count": 26,
   "metadata": {},
   "outputs": [
    {
     "data": {
      "image/png": "[encoded data removed]",
      "text/plain": [
       "<Figure size 432x288 with 1 Axes>"
      ]
     },
     "metadata": {
      "needs_background": "light"
     },
     "output_type": "display_data"
    }
   ],
   "source": [
    "learn.sched.plot_loss()"
   ]
  },
  {
   "cell_type": "markdown",
   "metadata": {},
   "source": [
    "## Train UNet with temporal information: "
   ]
  },
  {
   "cell_type": "code",
   "execution_count": 11,
   "metadata": {},
   "outputs": [],
   "source": [
    "from fastai.conv_learner import *\n",
    "\n",
    "md = ModelData(path=PATH,trn_dl=train_loader, val_dl=val_loader, test_dl=test_loader)\n",
    "net = UNet(7,2)\n",
    "learn = Learner.from_model_data(m=net, data=md)\n",
    "learn.crit = F.mse_loss"
   ]
  },
  {
   "cell_type": "code",
   "execution_count": 12,
   "metadata": {},
   "outputs": [
    {
     "data": {
      "application/vnd.jupyter.widget-view+json": {
       "model_id": "4408de79f37f46e9803615d24c747e6e",
       "version_major": 2,
       "version_minor": 0
      },
      "text/plain": [
       "HBox(children=(IntProgress(value=0, description='Epoch', max=1, style=ProgressStyle(description_width='initial…"
      ]
     },
     "metadata": {},
     "output_type": "display_data"
    },
    {
     "name": "stdout",
     "output_type": "stream",
     "text": [
      " 97%|█████████▋| 154/159 [07:25<00:13,  2.62s/it, loss=4.96] "
     ]
    }
   ],
   "source": [
    "learn.lr_find()"
   ]
  },
  {
   "cell_type": "code",
   "execution_count": 14,
   "metadata": {},
   "outputs": [
    {
     "data": {
      "image/png": "[encoded data removed]",
      "text/plain": [
       "<Figure size 432x288 with 1 Axes>"
      ]
     },
     "metadata": {
      "needs_background": "light"
     },
     "output_type": "display_data"
    }
   ],
   "source": [
    "learn.sched.plot()"
   ]
  },
  {
   "cell_type": "code",
   "execution_count": 15,
   "metadata": {},
   "outputs": [
    {
     "data": {
      "application/vnd.jupyter.widget-view+json": {
       "model_id": "522409b616984d00a6ecb80ab7090a64",
       "version_major": 2,
       "version_minor": 0
      },
      "text/plain": [
       "HBox(children=(IntProgress(value=0, description='Epoch', max=5, style=ProgressStyle(description_width='initial…"
      ]
     },
     "metadata": {},
     "output_type": "display_data"
    },
    {
     "name": "stdout",
     "output_type": "stream",
     "text": [
      "epoch      trn_loss   val_loss                               \n",
      "    0      0.277132   0.250648  \n",
      "    1      0.163144   0.134856                               \n",
      "    2      0.057425   0.037207                                \n",
      "    3      0.036737   0.020445                                \n",
      "    4      0.026227   0.013352                                \n"
     ]
    },
    {
     "data": {
      "text/plain": [
       "[array([0.01335])]"
      ]
     },
     "execution_count": 15,
     "metadata": {},
     "output_type": "execute_result"
    }
   ],
   "source": [
    "lr=0.05\n",
    "learn.fit(lr, 5,cycle_len=1)"
   ]
  },
  {
   "cell_type": "code",
   "execution_count": 16,
   "metadata": {},
   "outputs": [
    {
     "data": {
      "image/png": "[encoded data removed]",
      "text/plain": [
       "<Figure size 432x288 with 1 Axes>"
      ]
     },
     "metadata": {
      "needs_background": "light"
     },
     "output_type": "display_data"
    }
   ],
   "source": [
    "learn.sched.plot_loss()"
   ]
  },
  {
   "cell_type": "code",
   "execution_count": 17,
   "metadata": {},
   "outputs": [],
   "source": [
    "learn.save(\"4mar_temporal_5epochs_002loss\")"
   ]
  },
  {
   "cell_type": "code",
   "execution_count": 18,
   "metadata": {},
   "outputs": [
    {
     "data": {
      "application/vnd.jupyter.widget-view+json": {
       "model_id": "5f0aafa21efd4d96b3989937c0c4019a",
       "version_major": 2,
       "version_minor": 0
      },
      "text/plain": [
       "HBox(children=(IntProgress(value=0, description='Epoch', max=5, style=ProgressStyle(description_width='initial…"
      ]
     },
     "metadata": {},
     "output_type": "display_data"
    },
    {
     "name": "stdout",
     "output_type": "stream",
     "text": [
      "epoch      trn_loss   val_loss                                \n",
      "    0      0.035567   0.080777  \n",
      "    1      0.01902    0.009175                                \n",
      "    2      0.018789   0.007539                                \n",
      "    3      0.015658   0.007083                                \n",
      "    4      0.017099   0.006907                                \n"
     ]
    },
    {
     "data": {
      "text/plain": [
       "[array([0.00691])]"
      ]
     },
     "execution_count": 18,
     "metadata": {},
     "output_type": "execute_result"
    }
   ],
   "source": [
    "learn.fit(lr, 1, cycle_len=5)"
   ]
  },
  {
   "cell_type": "code",
   "execution_count": 19,
   "metadata": {},
   "outputs": [
    {
     "data": {
      "image/png": "[encoded data removed]",
      "text/plain": [
       "<Figure size 432x288 with 1 Axes>"
      ]
     },
     "metadata": {
      "needs_background": "light"
     },
     "output_type": "display_data"
    }
   ],
   "source": [
    "learn.sched.plot_loss()"
   ]
  },
  {
   "cell_type": "code",
   "execution_count": 20,
   "metadata": {},
   "outputs": [],
   "source": [
    "learn.save(\"4mar_temporal_10epochs_final\")"
   ]
  },
  {
   "cell_type": "code",
   "execution_count": 12,
   "metadata": {},
   "outputs": [],
   "source": [
    "learn.load(\"4mar_temporal_10epochs_final\")\n",
    "lr=0.05"
   ]
  },
  {
   "cell_type": "code",
   "execution_count": 14,
   "metadata": {},
   "outputs": [
    {
     "data": {
      "application/vnd.jupyter.widget-view+json": {
       "model_id": "3ce94c157a2641f9a7c876adf9aab724",
       "version_major": 2,
       "version_minor": 0
      },
      "text/plain": [
       "HBox(children=(IntProgress(value=0, description='Epoch', max=10, style=ProgressStyle(description_width='initia…"
      ]
     },
     "metadata": {},
     "output_type": "display_data"
    },
    {
     "name": "stdout",
     "output_type": "stream",
     "text": [
      "epoch      trn_loss   val_loss                                \n",
      "    0      0.018946   0.007049  \n",
      "    1      0.015451   0.006607                                \n",
      "    2      0.017115   0.008057                                \n",
      "    3      0.017272   0.007563                                \n",
      "    4      0.013061   0.006001                                \n",
      "    5      0.01646    0.005603                                \n",
      "    6      0.01811    0.006206                                \n",
      "    7      0.017584   0.005805                                \n",
      "    8      0.013203   0.006515                                \n",
      "    9      0.01445    0.006177                                \n"
     ]
    },
    {
     "data": {
      "text/plain": [
       "[array([0.00618])]"
      ]
     },
     "execution_count": 14,
     "metadata": {},
     "output_type": "execute_result"
    }
   ],
   "source": [
    "learn.fit(lr, 1,cycle_len=10)"
   ]
  },
  {
   "cell_type": "code",
   "execution_count": 15,
   "metadata": {},
   "outputs": [
    {
     "data": {
      "image/png": "[encoded data removed]",
      "text/plain": [
       "<Figure size 432x288 with 1 Axes>"
      ]
     },
     "metadata": {
      "needs_background": "light"
     },
     "output_type": "display_data"
    }
   ],
   "source": [
    "learn.sched.plot_loss()"
   ]
  },
  {
   "cell_type": "code",
   "execution_count": 16,
   "metadata": {},
   "outputs": [],
   "source": [
    "learn.save(\"4mar_temporal_20epochs_final\")"
   ]
  },
  {
   "cell_type": "code",
   "execution_count": null,
   "metadata": {},
   "outputs": [],
   "source": []
  }
 ],
 "metadata": {
  "kernelspec": {
   "display_name": "SLURM SLURM 1GPU 8h 8GB (srun) 8 CPUs (via cluster)",
   "language": "",
   "name": "rik_slurm_slurm1gpu8h8gb_srun_8_via_cluster"
  },
  "language_info": {
   "codemirror_mode": {
    "name": "ipython",
    "version": 3
   },
   "file_extension": ".py",
   "mimetype": "text/x-python",
   "name": "python",
   "nbconvert_exporter": "python",
   "pygments_lexer": "ipython3",
   "version": "3.6.6"
  },
  "varInspector": {
   "cols": {
    "lenName": 16,
    "lenType": 16,
    "lenVar": 40
   },
   "kernels_config": {
    "python": {
     "delete_cmd_postfix": "",
     "delete_cmd_prefix": "del ",
     "library": "var_list.py",
     "varRefreshCmd": "print(var_dic_list())"
    },
    "r": {
     "delete_cmd_postfix": ") ",
     "delete_cmd_prefix": "rm(",
     "library": "var_list.r",
     "varRefreshCmd": "cat(var_dic_list()) "
    }
   },
   "types_to_exclude": [
    "module",
    "function",
    "builtin_function_or_method",
    "instance",
    "_Feature"
   ],
   "window_display": false
  }
 },
 "nbformat": 4,
 "nbformat_minor": 2
}
